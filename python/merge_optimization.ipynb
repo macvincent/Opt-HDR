{
 "cells": [
  {
   "cell_type": "code",
   "execution_count": 2,
   "metadata": {},
   "outputs": [],
   "source": [
    "\n",
    "from utils import *\n",
    "from align_and_merge import *\n",
    "import matplotlib.pyplot as plt\n",
    "import time\n",
    "from main import *\n",
    "# from imported_fft_util import *\n",
    "import numpy as np\n",
    "\n",
    "%load_ext autoreload\n",
    "%autoreload 2"
   ]
  },
  {
   "cell_type": "code",
   "execution_count": 3,
   "metadata": {},
   "outputs": [],
   "source": [
    "# from rocket_fft import numpy_like\n",
    "# numpy_like()"
   ]
  },
  {
   "cell_type": "markdown",
   "metadata": {},
   "source": [
    "## General Align"
   ]
  },
  {
   "cell_type": "code",
   "execution_count": 4,
   "metadata": {},
   "outputs": [],
   "source": [
    "image_name = \"c1b1_20150226_144326_422\"\n",
    "raw_images = load_raw_images_parallel(image_name)\n",
    "ref_image_index = select_reference_image(raw_images)"
   ]
  },
  {
   "cell_type": "code",
   "execution_count": 5,
   "metadata": {},
   "outputs": [
    {
     "name": "stdout",
     "output_type": "stream",
     "text": [
      "Reference image index: 0\n"
     ]
    }
   ],
   "source": [
    "print(\"Reference image index:\", ref_image_index)"
   ]
  },
  {
   "cell_type": "code",
   "execution_count": 6,
   "metadata": {},
   "outputs": [
    {
     "name": "stdout",
     "output_type": "stream",
     "text": [
      "downsampled raw images with shape:  (1232, 1640) previous shape:  (2464, 3280)\n"
     ]
    }
   ],
   "source": [
    "downsampled_raw_images = np.array([gaussian_downsample(raw_image, 2) for raw_image in raw_images])\n",
    "print(\"downsampled raw images with shape: \", downsampled_raw_images[0].shape, \"previous shape: \", raw_images[0].shape)"
   ]
  },
  {
   "cell_type": "code",
   "execution_count": 7,
   "metadata": {},
   "outputs": [
    {
     "name": "stdout",
     "output_type": "stream",
     "text": [
      "pyramid shapes:  [(19, 25), (77, 102), (308, 410), (1232, 1640)]\n",
      "Time taken for parallel alignment:  11.873320579528809\n"
     ]
    }
   ],
   "source": [
    "# Generate alignment matrix using pyramid block matching\n",
    "start = time.time()\n",
    "reference_motion_matrix = burst_align(ref_image_index, downsampled_raw_images, parallel=True)\n",
    "print(\"Time taken for parallel alignment: \", time.time() - start)"
   ]
  },
  {
   "cell_type": "code",
   "execution_count": 8,
   "metadata": {},
   "outputs": [
    {
     "name": "stdout",
     "output_type": "stream",
     "text": [
      "(10, 2464, 3280, 3) (10, 2464, 3280)\n",
      "Time taken for pixel shift alignment:  0.3752157688140869\n"
     ]
    }
   ],
   "source": [
    "motion_matrix = upsample_image(reference_motion_matrix, raw_images.shape[1], raw_images.shape[2]) * 2\n",
    "\n",
    "start = time.time()\n",
    "aligned_burst_patches = parallel_align(motion_matrix, raw_images)\n",
    "print(\"Time taken for pixel shift alignment: \", time.time() - start)"
   ]
  },
  {
   "cell_type": "markdown",
   "metadata": {},
   "source": [
    "## Naive Merge"
   ]
  },
  {
   "cell_type": "code",
   "execution_count": 9,
   "metadata": {},
   "outputs": [
    {
     "name": "stderr",
     "output_type": "stream",
     "text": [
      "100%|██████████| 154/154 [00:09<00:00, 16.91it/s]"
     ]
    },
    {
     "name": "stdout",
     "output_type": "stream",
     "text": [
      "Time taken for naive merge:  9.129734516143799\n"
     ]
    },
    {
     "name": "stderr",
     "output_type": "stream",
     "text": [
      "\n"
     ]
    }
   ],
   "source": [
    "start = time.time()\n",
    "final_merged_frame = merge_images(aligned_burst_patches, ref_image_index)\n",
    "print(\"Time taken for naive merge: \", time.time() - start)"
   ]
  },
  {
   "cell_type": "markdown",
   "metadata": {},
   "source": [
    "## Optimized Merge"
   ]
  },
  {
   "cell_type": "code",
   "execution_count": 10,
   "metadata": {},
   "outputs": [],
   "source": [
    "@njit\n",
    "def jit_fft(x):\n",
    "    return np.fft.fft(x)\n",
    "\n",
    "@njit\n",
    "def jit_ifft(x):\n",
    "    return np.fft.ifftn(x)"
   ]
  },
  {
   "cell_type": "code",
   "execution_count": 11,
   "metadata": {},
   "outputs": [
    {
     "name": "stdout",
     "output_type": "stream",
     "text": [
      "Time taken for parallel merge:  4.068123817443848\n"
     ]
    }
   ],
   "source": [
    "start = time.time()\n",
    "aligned_burst_patches = np.array(aligned_burst_patches)\n",
    "final_merged_frame = np.zeros_like(aligned_burst_patches[0])\n",
    "final_merged_frame = parallel_merge_images(aligned_burst_patches, ref_image_index, final_merged_frame)\n",
    "print(\"Time taken for parallel merge: \", time.time() - start)"
   ]
  }
 ],
 "metadata": {
  "kernelspec": {
   "display_name": "Python 3",
   "language": "python",
   "name": "python3"
  },
  "language_info": {
   "codemirror_mode": {
    "name": "ipython",
    "version": 3
   },
   "file_extension": ".py",
   "mimetype": "text/x-python",
   "name": "python",
   "nbconvert_exporter": "python",
   "pygments_lexer": "ipython3",
   "version": "3.8.10"
  }
 },
 "nbformat": 4,
 "nbformat_minor": 2
}
